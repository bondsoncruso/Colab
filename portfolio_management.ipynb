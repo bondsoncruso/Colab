{
  "nbformat": 4,
  "nbformat_minor": 0,
  "metadata": {
    "colab": {
      "name": "portfolio management.ipynb",
      "provenance": [],
      "authorship_tag": "ABX9TyOMARcyoLOcE16fIXK+49Lh",
      "include_colab_link": true
    },
    "kernelspec": {
      "name": "python3",
      "display_name": "Python 3"
    }
  },
  "cells": [
    {
      "cell_type": "markdown",
      "metadata": {
        "id": "view-in-github",
        "colab_type": "text"
      },
      "source": [
        "<a href=\"https://colab.research.google.com/github/bondsoncruso/Colab/blob/main/portfolio_management.ipynb\" target=\"_parent\"><img src=\"https://colab.research.google.com/assets/colab-badge.svg\" alt=\"Open In Colab\"/></a>"
      ]
    },
    {
      "cell_type": "code",
      "metadata": {
        "id": "kpvVghz_G1dW",
        "outputId": "4c136cbb-6382-4f31-8bd1-a556363a6d97",
        "colab": {
          "base_uri": "https://localhost:8080/"
        }
      },
      "source": [
        "!pip install --pre --upgrade alpha_vantage "
      ],
      "execution_count": null,
      "outputs": [
        {
          "output_type": "stream",
          "text": [
            "Collecting alpha_vantage\n",
            "  Downloading https://files.pythonhosted.org/packages/12/e3/72ec32d859a363c2eebaa42e0d4abb5ac7172a7a77a2307576ceb5fc1b42/alpha_vantage-2.2.0.tar.gz\n",
            "Requirement already up-to-date: pandas-datareader in /usr/local/lib/python3.6/dist-packages (0.9.0)\n",
            "Collecting aiohttp\n",
            "\u001b[?25l  Downloading https://files.pythonhosted.org/packages/cb/58/adf4457076102c02060eed24d46abc549b3a37b5268000d6d018fe6baaf2/aiohttp-4.0.0a1-cp36-cp36m-manylinux1_x86_64.whl (1.2MB)\n",
            "\u001b[K     |████████████████████████████████| 1.2MB 4.1MB/s \n",
            "\u001b[?25hRequirement already satisfied, skipping upgrade: requests in /usr/local/lib/python3.6/dist-packages (from alpha_vantage) (2.23.0)\n",
            "Requirement already satisfied, skipping upgrade: pandas>=0.23 in /usr/local/lib/python3.6/dist-packages (from pandas-datareader) (1.1.4)\n",
            "Requirement already satisfied, skipping upgrade: lxml in /usr/local/lib/python3.6/dist-packages (from pandas-datareader) (4.2.6)\n",
            "Requirement already satisfied, skipping upgrade: attrs>=17.3.0 in /usr/local/lib/python3.6/dist-packages (from aiohttp->alpha_vantage) (20.2.0)\n",
            "Collecting multidict<5.0,>=4.5\n",
            "\u001b[?25l  Downloading https://files.pythonhosted.org/packages/1a/95/f50352b5366e7d579e8b99631680a9e32e1b22adfa1629a8f23b1d22d5e2/multidict-4.7.6-cp36-cp36m-manylinux1_x86_64.whl (148kB)\n",
            "\u001b[K     |████████████████████████████████| 153kB 42.3MB/s \n",
            "\u001b[?25hRequirement already satisfied, skipping upgrade: chardet<4.0,>=2.0 in /usr/local/lib/python3.6/dist-packages (from aiohttp->alpha_vantage) (3.0.4)\n",
            "Collecting yarl<2.0,>=1.0\n",
            "\u001b[?25l  Downloading https://files.pythonhosted.org/packages/25/8b/f4176c06233f7baed99dcb5aefcb010bfbbe769050579adda63083f2c326/yarl-1.6.2-cp36-cp36m-manylinux2014_x86_64.whl (295kB)\n",
            "\u001b[K     |████████████████████████████████| 296kB 48.5MB/s \n",
            "\u001b[?25hCollecting idna-ssl>=1.0; python_version < \"3.7\"\n",
            "  Downloading https://files.pythonhosted.org/packages/46/03/07c4894aae38b0de52b52586b24bf189bb83e4ddabfe2e2c8f2419eec6f4/idna-ssl-1.1.0.tar.gz\n",
            "Requirement already satisfied, skipping upgrade: typing-extensions>=3.6.5 in /usr/local/lib/python3.6/dist-packages (from aiohttp->alpha_vantage) (3.7.4.3)\n",
            "Collecting async-timeout<4.0,>=3.0\n",
            "  Downloading https://files.pythonhosted.org/packages/e1/1e/5a4441be21b0726c4464f3f23c8b19628372f606755a9d2e46c187e65ec4/async_timeout-3.0.1-py3-none-any.whl\n",
            "Requirement already satisfied, skipping upgrade: urllib3!=1.25.0,!=1.25.1,<1.26,>=1.21.1 in /usr/local/lib/python3.6/dist-packages (from requests->alpha_vantage) (1.24.3)\n",
            "Requirement already satisfied, skipping upgrade: idna<3,>=2.5 in /usr/local/lib/python3.6/dist-packages (from requests->alpha_vantage) (2.10)\n",
            "Requirement already satisfied, skipping upgrade: certifi>=2017.4.17 in /usr/local/lib/python3.6/dist-packages (from requests->alpha_vantage) (2020.6.20)\n",
            "Requirement already satisfied, skipping upgrade: pytz>=2017.2 in /usr/local/lib/python3.6/dist-packages (from pandas>=0.23->pandas-datareader) (2018.9)\n",
            "Requirement already satisfied, skipping upgrade: python-dateutil>=2.7.3 in /usr/local/lib/python3.6/dist-packages (from pandas>=0.23->pandas-datareader) (2.8.1)\n",
            "Requirement already satisfied, skipping upgrade: numpy>=1.15.4 in /usr/local/lib/python3.6/dist-packages (from pandas>=0.23->pandas-datareader) (1.18.5)\n",
            "Requirement already satisfied, skipping upgrade: six>=1.5 in /usr/local/lib/python3.6/dist-packages (from python-dateutil>=2.7.3->pandas>=0.23->pandas-datareader) (1.15.0)\n",
            "Building wheels for collected packages: alpha-vantage, idna-ssl\n",
            "  Building wheel for alpha-vantage (setup.py) ... \u001b[?25l\u001b[?25hdone\n",
            "  Created wheel for alpha-vantage: filename=alpha_vantage-2.2.0-cp36-none-any.whl size=25706 sha256=3271baf05fc602fbdfd52f2d0ee37d458eedfd9abb5f77409595c3eb44db38da\n",
            "  Stored in directory: /root/.cache/pip/wheels/3a/fa/05/80b0afcbd2a4de8bd2a0c5cd77084e3d3a9cc12c48be9b7f84\n",
            "  Building wheel for idna-ssl (setup.py) ... \u001b[?25l\u001b[?25hdone\n",
            "  Created wheel for idna-ssl: filename=idna_ssl-1.1.0-cp36-none-any.whl size=3161 sha256=eaaa47f34b56efc1378a7e416e6ee40d9a32d9400093f30a657e770c66bf3694\n",
            "  Stored in directory: /root/.cache/pip/wheels/d3/00/b3/32d613e19e08a739751dd6bf998cfed277728f8b2127ad4eb7\n",
            "Successfully built alpha-vantage idna-ssl\n",
            "Installing collected packages: multidict, yarl, idna-ssl, async-timeout, aiohttp, alpha-vantage\n",
            "Successfully installed aiohttp-4.0.0a1 alpha-vantage-2.2.0 async-timeout-3.0.1 idna-ssl-1.1.0 multidict-4.7.6 yarl-1.6.2\n"
          ],
          "name": "stdout"
        }
      ]
    },
    {
      "cell_type": "code",
      "metadata": {
        "id": "NhRSYsLvwALM"
      },
      "source": [
        "import pandas as pd\n",
        "import numpy as np\n",
        "import datetime\n",
        "import matplotlib.pyplot as plt\n",
        "from alpha_vantage.timeseries import TimeSeries\n",
        "from pandas_datareader.stooq import StooqDailyReader\n",
        "\n",
        "\n",
        "import time\n",
        "\n",
        "api_key ='OVGC8KHNZCEZ89YF'\n",
        "\n",
        "ts = TimeSeries(key= api_key, output_format='pandas')\n"
      ],
      "execution_count": null,
      "outputs": []
    },
    {
      "cell_type": "code",
      "metadata": {
        "id": "uVC_Glqp8TSo",
        "outputId": "fbc28179-569a-43c0-f785-d79f13ada3e8",
        "colab": {
          "base_uri": "https://localhost:8080/"
        }
      },
      "source": [
        "ts.get_symbol_search(keywords='MINDACOR')"
      ],
      "execution_count": null,
      "outputs": [
        {
          "output_type": "execute_result",
          "data": {
            "text/plain": [
              "(                1. symbol                    2. name  ... 8. currency 9. matchScore\n",
              " date                                                  ...                          \n",
              " 1970-01-01  MINDACORP.BSE  Minda Corporation Limited  ...         INR        0.8000\n",
              " \n",
              " [1 rows x 9 columns], None)"
            ]
          },
          "metadata": {
            "tags": []
          },
          "execution_count": 3
        }
      ]
    },
    {
      "cell_type": "code",
      "metadata": {
        "id": "QLWhGxcJak3I"
      },
      "source": [
        "#check symbols here\n",
        "#ts.get_daily(symbol=['TATACOFFEE.BSE'])"
      ],
      "execution_count": null,
      "outputs": []
    },
    {
      "cell_type": "code",
      "metadata": {
        "id": "ZbHCVQ11Azdy"
      },
      "source": [
        "todays_date = datetime.datetime.now().date()\n",
        "index = pd.date_range(todays_date, periods=10, freq='D')\n",
        "seed = pd.DataFrame(index=index)"
      ],
      "execution_count": null,
      "outputs": []
    },
    {
      "cell_type": "code",
      "metadata": {
        "id": "lImUU0o2aYnc"
      },
      "source": [
        "symbol = '504058.BSE'\n",
        "data = ts.get_daily(symbol=[symbol], outputsize='full')\n",
        "data = data[0]\n",
        "data = data.drop(['1. open','2. high','3. low','5. volume'],axis=1)\n",
        "data.rename(columns = {'4. close':'NIPPOBATRY'}, inplace = True)\n",
        "portfolio = data.join(seed)"
      ],
      "execution_count": null,
      "outputs": []
    },
    {
      "cell_type": "code",
      "metadata": {
        "id": "U_Q6Mml7EvTl"
      },
      "source": [
        "symbol = '539876.BSE'\n",
        "data = ts.get_daily(symbol=[symbol], outputsize='full')\n",
        "data = data[0]\n",
        "data = data.drop(['1. open','2. high','3. low','5. volume'],axis=1)\n",
        "data.rename(columns = {'4. close':'CROMPTON'}, inplace = True)\n",
        "portfolio = data.join(seed)\n",
        "symbol = '542867.BSE'\n",
        "data = ts.get_daily(symbol=[symbol], outputsize='full')\n",
        "data = data[0]\n",
        "data = data.drop(['1. open','2. high','3. low','5. volume'],axis=1)\n",
        "data.rename(columns = {'4. close':'CSBBANK'}, inplace = True)\n",
        "portfolio = data.join(portfolio)\n",
        "symbol = '538962.BSE'\n",
        "data = ts.get_daily(symbol=[symbol], outputsize='full')\n",
        "data = data[0]\n",
        "data = data.drop(['1. open','2. high','3. low','5. volume'],axis=1)\n",
        "data.rename(columns = {'4. close':'MINDACORP'}, inplace = True)\n",
        "portfolio = data.join(portfolio)\n",
        "symbol = '532301.BSE'\n",
        "data = ts.get_daily(symbol=[symbol], outputsize='full')\n",
        "data = data[0]\n",
        "data = data.drop(['1. open','2. high','3. low','5. volume'],axis=1)\n",
        "data.rename(columns = {'4. close':'TATACOFFEE'}, inplace = True)\n",
        "portfolio = data.join(portfolio)\n",
        "\n",
        "\n",
        "  \n",
        "\n"
      ],
      "execution_count": null,
      "outputs": []
    },
    {
      "cell_type": "code",
      "metadata": {
        "id": "oLAHL7IGIMoT",
        "outputId": "63af4639-666d-4236-b002-057f6e53540f",
        "colab": {
          "base_uri": "https://localhost:8080/",
          "height": 450
        }
      },
      "source": [
        "portfolio = portfolio.bfill(axis = 0)\n",
        "portfolio"
      ],
      "execution_count": null,
      "outputs": [
        {
          "output_type": "execute_result",
          "data": {
            "text/html": [
              "<div>\n",
              "<style scoped>\n",
              "    .dataframe tbody tr th:only-of-type {\n",
              "        vertical-align: middle;\n",
              "    }\n",
              "\n",
              "    .dataframe tbody tr th {\n",
              "        vertical-align: top;\n",
              "    }\n",
              "\n",
              "    .dataframe thead th {\n",
              "        text-align: right;\n",
              "    }\n",
              "</style>\n",
              "<table border=\"1\" class=\"dataframe\">\n",
              "  <thead>\n",
              "    <tr style=\"text-align: right;\">\n",
              "      <th></th>\n",
              "      <th>TATACOFFEE</th>\n",
              "      <th>MINDACORP</th>\n",
              "      <th>CSBBANK</th>\n",
              "      <th>CROMPTON</th>\n",
              "    </tr>\n",
              "    <tr>\n",
              "      <th>date</th>\n",
              "      <th></th>\n",
              "      <th></th>\n",
              "      <th></th>\n",
              "      <th></th>\n",
              "    </tr>\n",
              "  </thead>\n",
              "  <tbody>\n",
              "    <tr>\n",
              "      <th>2020-11-04</th>\n",
              "      <td>100.25</td>\n",
              "      <td>66.45</td>\n",
              "      <td>236.50</td>\n",
              "      <td>308.00</td>\n",
              "    </tr>\n",
              "    <tr>\n",
              "      <th>2020-11-03</th>\n",
              "      <td>99.80</td>\n",
              "      <td>65.85</td>\n",
              "      <td>234.75</td>\n",
              "      <td>296.80</td>\n",
              "    </tr>\n",
              "    <tr>\n",
              "      <th>2020-11-02</th>\n",
              "      <td>100.10</td>\n",
              "      <td>66.90</td>\n",
              "      <td>236.25</td>\n",
              "      <td>291.65</td>\n",
              "    </tr>\n",
              "    <tr>\n",
              "      <th>2020-10-30</th>\n",
              "      <td>101.50</td>\n",
              "      <td>67.60</td>\n",
              "      <td>230.60</td>\n",
              "      <td>299.00</td>\n",
              "    </tr>\n",
              "    <tr>\n",
              "      <th>2020-10-29</th>\n",
              "      <td>101.55</td>\n",
              "      <td>68.70</td>\n",
              "      <td>224.40</td>\n",
              "      <td>294.40</td>\n",
              "    </tr>\n",
              "    <tr>\n",
              "      <th>...</th>\n",
              "      <td>...</td>\n",
              "      <td>...</td>\n",
              "      <td>...</td>\n",
              "      <td>...</td>\n",
              "    </tr>\n",
              "    <tr>\n",
              "      <th>2005-01-07</th>\n",
              "      <td>299.35</td>\n",
              "      <td>NaN</td>\n",
              "      <td>NaN</td>\n",
              "      <td>NaN</td>\n",
              "    </tr>\n",
              "    <tr>\n",
              "      <th>2005-01-06</th>\n",
              "      <td>288.45</td>\n",
              "      <td>NaN</td>\n",
              "      <td>NaN</td>\n",
              "      <td>NaN</td>\n",
              "    </tr>\n",
              "    <tr>\n",
              "      <th>2005-01-05</th>\n",
              "      <td>272.95</td>\n",
              "      <td>NaN</td>\n",
              "      <td>NaN</td>\n",
              "      <td>NaN</td>\n",
              "    </tr>\n",
              "    <tr>\n",
              "      <th>2005-01-04</th>\n",
              "      <td>270.60</td>\n",
              "      <td>NaN</td>\n",
              "      <td>NaN</td>\n",
              "      <td>NaN</td>\n",
              "    </tr>\n",
              "    <tr>\n",
              "      <th>2005-01-03</th>\n",
              "      <td>264.45</td>\n",
              "      <td>NaN</td>\n",
              "      <td>NaN</td>\n",
              "      <td>NaN</td>\n",
              "    </tr>\n",
              "  </tbody>\n",
              "</table>\n",
              "<p>3902 rows × 4 columns</p>\n",
              "</div>"
            ],
            "text/plain": [
              "            TATACOFFEE  MINDACORP  CSBBANK  CROMPTON\n",
              "date                                                \n",
              "2020-11-04      100.25      66.45   236.50    308.00\n",
              "2020-11-03       99.80      65.85   234.75    296.80\n",
              "2020-11-02      100.10      66.90   236.25    291.65\n",
              "2020-10-30      101.50      67.60   230.60    299.00\n",
              "2020-10-29      101.55      68.70   224.40    294.40\n",
              "...                ...        ...      ...       ...\n",
              "2005-01-07      299.35        NaN      NaN       NaN\n",
              "2005-01-06      288.45        NaN      NaN       NaN\n",
              "2005-01-05      272.95        NaN      NaN       NaN\n",
              "2005-01-04      270.60        NaN      NaN       NaN\n",
              "2005-01-03      264.45        NaN      NaN       NaN\n",
              "\n",
              "[3902 rows x 4 columns]"
            ]
          },
          "metadata": {
            "tags": []
          },
          "execution_count": 20
        }
      ]
    },
    {
      "cell_type": "code",
      "metadata": {
        "id": "huk4l5eo-j9M"
      },
      "source": [
        "weights = []\n",
        "total = portfolio.iloc[0,:].sum()\n",
        "for i in range(portfolio.shape[1]):\n",
        "  weights.append(portfolio.iloc[0,i]/total)\n",
        "\n",
        "  \n",
        "  "
      ],
      "execution_count": null,
      "outputs": []
    },
    {
      "cell_type": "code",
      "metadata": {
        "id": "ExaWSbhLts1q",
        "outputId": "4727d1b2-c6a1-4efe-d69e-890a7fcce54b",
        "colab": {
          "base_uri": "https://localhost:8080/"
        }
      },
      "source": [
        "weights = np.array(weights)\n",
        "print(weights.shape)\n",
        "weights"
      ],
      "execution_count": null,
      "outputs": [
        {
          "output_type": "stream",
          "text": [
            "(4,)\n"
          ],
          "name": "stdout"
        },
        {
          "output_type": "execute_result",
          "data": {
            "text/plain": [
              "array([0.14095894, 0.09343363, 0.33253656, 0.43307087])"
            ]
          },
          "metadata": {
            "tags": []
          },
          "execution_count": 22
        }
      ]
    },
    {
      "cell_type": "code",
      "metadata": {
        "id": "O03wDE7vw3qN",
        "outputId": "5cfd60fe-4cba-4f65-a632-e908a407f944",
        "colab": {
          "base_uri": "https://localhost:8080/",
          "height": 190
        }
      },
      "source": [
        "# for variance need daily returns\n",
        "daily_returns = portfolio.pct_change(-1)\n",
        "# multiplied by 250 to annualize\n",
        "cov_matrix_d = (daily_returns.cov())*250\n",
        "print(cov_matrix_d.shape)\n",
        "cov_matrix_d\n"
      ],
      "execution_count": null,
      "outputs": [
        {
          "output_type": "stream",
          "text": [
            "(4, 4)\n"
          ],
          "name": "stdout"
        },
        {
          "output_type": "execute_result",
          "data": {
            "text/html": [
              "<div>\n",
              "<style scoped>\n",
              "    .dataframe tbody tr th:only-of-type {\n",
              "        vertical-align: middle;\n",
              "    }\n",
              "\n",
              "    .dataframe tbody tr th {\n",
              "        vertical-align: top;\n",
              "    }\n",
              "\n",
              "    .dataframe thead th {\n",
              "        text-align: right;\n",
              "    }\n",
              "</style>\n",
              "<table border=\"1\" class=\"dataframe\">\n",
              "  <thead>\n",
              "    <tr style=\"text-align: right;\">\n",
              "      <th></th>\n",
              "      <th>TATACOFFEE</th>\n",
              "      <th>MINDACORP</th>\n",
              "      <th>CSBBANK</th>\n",
              "      <th>CROMPTON</th>\n",
              "    </tr>\n",
              "  </thead>\n",
              "  <tbody>\n",
              "    <tr>\n",
              "      <th>TATACOFFEE</th>\n",
              "      <td>0.205514</td>\n",
              "      <td>0.017711</td>\n",
              "      <td>0.005517</td>\n",
              "      <td>0.003178</td>\n",
              "    </tr>\n",
              "    <tr>\n",
              "      <th>MINDACORP</th>\n",
              "      <td>0.017711</td>\n",
              "      <td>0.077385</td>\n",
              "      <td>0.005587</td>\n",
              "      <td>0.003560</td>\n",
              "    </tr>\n",
              "    <tr>\n",
              "      <th>CSBBANK</th>\n",
              "      <td>0.005517</td>\n",
              "      <td>0.005587</td>\n",
              "      <td>0.016667</td>\n",
              "      <td>0.003516</td>\n",
              "    </tr>\n",
              "    <tr>\n",
              "      <th>CROMPTON</th>\n",
              "      <td>0.003178</td>\n",
              "      <td>0.003560</td>\n",
              "      <td>0.003516</td>\n",
              "      <td>0.008569</td>\n",
              "    </tr>\n",
              "  </tbody>\n",
              "</table>\n",
              "</div>"
            ],
            "text/plain": [
              "            TATACOFFEE  MINDACORP   CSBBANK  CROMPTON\n",
              "TATACOFFEE    0.205514   0.017711  0.005517  0.003178\n",
              "MINDACORP     0.017711   0.077385  0.005587  0.003560\n",
              "CSBBANK       0.005517   0.005587  0.016667  0.003516\n",
              "CROMPTON      0.003178   0.003560  0.003516  0.008569"
            ]
          },
          "metadata": {
            "tags": []
          },
          "execution_count": 23
        }
      ]
    },
    {
      "cell_type": "code",
      "metadata": {
        "id": "qt6L82nl1DGi",
        "outputId": "b941ca06-c96d-4485-939b-5d744ee0746e",
        "colab": {
          "base_uri": "https://localhost:8080/"
        }
      },
      "source": [
        "np.dot(cov_matrix_d,weights)"
      ],
      "execution_count": null,
      "outputs": [
        {
          "output_type": "execute_result",
          "data": {
            "text/plain": [
              "array([0.03383477, 0.0131267 , 0.00836464, 0.00566069])"
            ]
          },
          "metadata": {
            "tags": []
          },
          "execution_count": 24
        }
      ]
    },
    {
      "cell_type": "code",
      "metadata": {
        "id": "XoUuY0hMzjAq",
        "outputId": "1c6af6c4-c463-445e-ebf5-d9c69e2a6d60",
        "colab": {
          "base_uri": "https://localhost:8080/"
        }
      },
      "source": [
        "# variance of a portfolio is dot product of weights transposed * cov * weights\n",
        "port_variance = np.dot(weights.T,np.dot(cov_matrix_d, weights))\n",
        "print('Variance of the portfolio is ' + str(np.round(port_variance *100,3) ) + '%')\n",
        "port_stddev = np.sqrt(np.dot(weights.T,np.dot(cov_matrix_d, weights)))\n",
        "print('Standard Deviation of the portfolio is ' + str(np.round(port_stddev*100,3)) + '%')\n",
        "\n"
      ],
      "execution_count": null,
      "outputs": [
        {
          "output_type": "stream",
          "text": [
            "Variance of the portfolio is 1.123%\n",
            "Standard Deviation of the portfolio is 10.597%\n"
          ],
          "name": "stdout"
        }
      ]
    },
    {
      "cell_type": "code",
      "metadata": {
        "id": "pJBDSqaE0xZf",
        "outputId": "7cc4395d-7674-4efe-fe30-3867e84773b3",
        "colab": {
          "base_uri": "https://localhost:8080/"
        }
      },
      "source": [
        "print('Annualized Returns')\n",
        "for i in portfolio.columns:\n",
        "  stock = portfolio[i].dropna()\n",
        "  months = stock.count()\n",
        "  total_ret = (stock[0] - stock[-1])/stock[-1]\n",
        "  annualized_ret = ((1 + total_ret)**(12/months)) - 1\n",
        "  print(str(i) + ' = ' + str(round(annualized_ret * 100,2)) + '%')"
      ],
      "execution_count": null,
      "outputs": [
        {
          "output_type": "stream",
          "text": [
            "Annualized Returns\n",
            "TATACOFFEE = -0.3%\n",
            "MINDACORP = -0.29%\n",
            "CSBBANK = -1.23%\n",
            "CROMPTON = 0.98%\n"
          ],
          "name": "stdout"
        }
      ]
    },
    {
      "cell_type": "code",
      "metadata": {
        "id": "-JBfEypl4jjC",
        "outputId": "9a081bce-e372-4654-ae5f-f13cda0d460b",
        "colab": {
          "base_uri": "https://localhost:8080/",
          "height": 366
        }
      },
      "source": [
        "portfolio.pct_change(-1).hist()"
      ],
      "execution_count": null,
      "outputs": [
        {
          "output_type": "execute_result",
          "data": {
            "text/plain": [
              "array([[<matplotlib.axes._subplots.AxesSubplot object at 0x7fdecc3eac88>,\n",
              "        <matplotlib.axes._subplots.AxesSubplot object at 0x7fdecc3c1da0>],\n",
              "       [<matplotlib.axes._subplots.AxesSubplot object at 0x7fdecc377fd0>,\n",
              "        <matplotlib.axes._subplots.AxesSubplot object at 0x7fdecc3362b0>]],\n",
              "      dtype=object)"
            ]
          },
          "metadata": {
            "tags": []
          },
          "execution_count": 30
        },
        {
          "output_type": "display_data",
          "data": {
            "image/png": "[encoded data removed]",
            "text/plain": [
              "<Figure size 432x288 with 4 Axes>"
            ]
          },
          "metadata": {
            "tags": [],
            "needs_background": "light"
          }
        }
      ]
    },
    {
      "cell_type": "code",
      "metadata": {
        "id": "WIZudOtX-bRp",
        "outputId": "bc0f645f-e97a-47b0-938e-36e48269d70b",
        "colab": {
          "base_uri": "https://localhost:8080/"
        }
      },
      "source": [
        "portfolio.pct_change(-1).skew()\n",
        "#if more than one or less than minus one it is highly skewed\n",
        "#from -1 to -0.5 and 0.5 to 1 is moderately skewed\n",
        "#other wise no skewnewss\n",
        "#if skew positive then it distributions are towards the left"
      ],
      "execution_count": null,
      "outputs": [
        {
          "output_type": "execute_result",
          "data": {
            "text/plain": [
              "TATACOFFEE   -7.118846\n",
              "MINDACORP     2.143357\n",
              "CSBBANK       0.507872\n",
              "CROMPTON      1.656389\n",
              "dtype: float64"
            ]
          },
          "metadata": {
            "tags": []
          },
          "execution_count": 31
        }
      ]
    },
    {
      "cell_type": "code",
      "metadata": {
        "id": "AfjQnBHi0WxJ",
        "outputId": "60f2564d-7a63-460d-c993-353faf48f381",
        "colab": {
          "base_uri": "https://localhost:8080/"
        }
      },
      "source": [
        "#high kurtosis means fat tails in normal distrubation (if bigger than 3)\n",
        "portfolio.pct_change(-1).kurtosis()\n"
      ],
      "execution_count": null,
      "outputs": [
        {
          "output_type": "execute_result",
          "data": {
            "text/plain": [
              "TATACOFFEE    253.181313\n",
              "MINDACORP      26.033979\n",
              "CSBBANK        88.603334\n",
              "CROMPTON       93.826498\n",
              "dtype: float64"
            ]
          },
          "metadata": {
            "tags": []
          },
          "execution_count": 32
        }
      ]
    }
  ]
}